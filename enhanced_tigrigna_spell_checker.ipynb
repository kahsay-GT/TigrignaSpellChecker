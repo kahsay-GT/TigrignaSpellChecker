{
 "cells": [
  {
   "cell_type": "markdown",
   "metadata": {},
   "source": [
    "# ትግርኛ - Enhanced Tigrigna Spell Checker\n",
    "\n",
    "This notebook provides an enhanced real-time spell checker for the Tigrigna language with improved suggestion features and dictionary management."
   ]
  },
  {
   "cell_type": "markdown",
   "metadata": {},
   "source": [
    "## 1. Setup and Imports"
   ]
  },
  {
   "cell_type": "code",
   "execution_count": 1,
   "metadata": {},
   "outputs": [
    {
     "name": "stdout",
     "output_type": "stream",
     "text": [
      "Setup complete.\n"
     ]
    }
   ],
   "source": [
    "# Import necessary libraries\n",
    "import ipywidgets as widgets\n",
    "from IPython.display import display, HTML, clear_output\n",
    "import re\n",
    "import os\n",
    "import sys\n",
    "from pathlib import Path\n",
    "from collections import Counter\n",
    "import heapq\n",
    "\n",
    "# Add the current directory to the path if needed\n",
    "current_dir = Path.cwd()\n",
    "if str(current_dir) not in sys.path:\n",
    "    sys.path.append(str(current_dir))\n",
    "\n",
    "print(\"Setup complete.\")"
   ]
  },
  {
   "cell_type": "markdown",
   "metadata": {},
   "source": [
    "## 2. Load Tigrigna Dictionary"
   ]
  },
  {
   "cell_type": "code",
   "execution_count": 2,
   "metadata": {},
   "outputs": [
    {
     "name": "stdout",
     "output_type": "stream",
     "text": [
      "Loaded 294 words from tigrigna_dictionary.txt\n",
      "Loaded 294 words from data/tigrigna_words.txt\n",
      "Total dictionary size: 294 words\n"
     ]
    }
   ],
   "source": [
    "def load_dictionary():\n",
    "    \"\"\"Load the Tigrigna dictionary from file\"\"\"\n",
    "    dictionary = set()\n",
    "    # Try multiple potential locations for the dictionary\n",
    "    potential_paths = [\n",
    "        'tigrigna_dictionary.txt',\n",
    "        'data/tigrigna_words.txt',\n",
    "        'data/tigrigna_dictionary.txt',\n",
    "        os.path.join(os.path.dirname(os.getcwd()), 'data', 'tigrigna_words.txt')\n",
    "    ]\n",
    "    \n",
    "    for path in potential_paths:\n",
    "        try:\n",
    "            with open(path, 'r', encoding='utf-8') as file:\n",
    "                words = {line.strip() for line in file if line.strip()}\n",
    "                if words:\n",
    "                    dictionary.update(words)\n",
    "                    print(f\"Loaded {len(words)} words from {path}\")\n",
    "        except (FileNotFoundError, IOError):\n",
    "            continue\n",
    "    \n",
    "    if not dictionary:\n",
    "        # Fallback to a small set of common Tigrigna words\n",
    "        dictionary = {'ሰላም', 'ከመይ', 'ጽቡቕ', 'ሓጺር', 'ነዊሕ', 'ዓቢ', 'ንእሽቶ'}\n",
    "        print(\"Warning: Could not find dictionary file. Using a minimal set of words.\")\n",
    "    \n",
    "    print(f\"Total dictionary size: {len(dictionary)} words\")\n",
    "    return dictionary\n",
    "\n",
    "# Load the dictionary\n",
    "tigrigna_dictionary = load_dictionary()"
   ]
  },
  {
   "cell_type": "markdown",
   "metadata": {},
   "source": [
    "## 3. Spell Checking Functions"
   ]
  },
  {
   "cell_type": "code",
   "execution_count": 3,
   "metadata": {},
   "outputs": [
    {
     "name": "stdout",
     "output_type": "stream",
     "text": [
      "Is 'ሰላም' in dictionary? True\n",
      "Suggestions for 'ሰላምም': ['ሰላም', 'ሰላማት']\n"
     ]
    }
   ],
   "source": [
    "def check_word(word, dictionary):\n",
    "    \"\"\"Check if a word is in the dictionary\"\"\"\n",
    "    return word in dictionary\n",
    "\n",
    "def tokenize_text(text):\n",
    "    \"\"\"Split Tigrigna text into words\"\"\"\n",
    "    # Replace Ethiopic punctuation with spaces\n",
    "    cleaned_text = re.sub(r'[፡።፣፤፥፧፦፨፠፟]', ' ', text)\n",
    "    words = re.split(r'\\s+', cleaned_text)\n",
    "    return [word for word in words if word]\n",
    "\n",
    "def edit_distance(s1, s2):\n",
    "    \"\"\"Calculate Levenshtein distance between two strings\"\"\"\n",
    "    if len(s1) < len(s2):\n",
    "        return edit_distance(s2, s1)\n",
    "    if len(s2) == 0:\n",
    "        return len(s1)\n",
    "    \n",
    "    previous_row = range(len(s2) + 1)\n",
    "    for i, c1 in enumerate(s1):\n",
    "        current_row = [i + 1]\n",
    "        for j, c2 in enumerate(s2):\n",
    "            insertions = previous_row[j + 1] + 1\n",
    "            deletions = current_row[j] + 1\n",
    "            substitutions = previous_row[j] + (c1 != c2)\n",
    "            current_row.append(min(insertions, deletions, substitutions))\n",
    "        previous_row = current_row\n",
    "    \n",
    "    return previous_row[-1]\n",
    "\n",
    "def get_suggestions(word, dictionary, max_distance=2, max_suggestions=5):\n",
    "    \"\"\"Get spelling suggestions for a word\"\"\"\n",
    "    if not word or check_word(word, dictionary):\n",
    "        return []\n",
    "    \n",
    "    suggestions = []\n",
    "    for dict_word in dictionary:\n",
    "        distance = edit_distance(word, dict_word)\n",
    "        if distance <= max_distance:\n",
    "            suggestions.append((dict_word, distance))\n",
    "    \n",
    "    # Sort by edit distance (closest first)\n",
    "    suggestions.sort(key=lambda x: x[1])\n",
    "    return [suggestion[0] for suggestion in suggestions[:max_suggestions]]\n",
    "\n",
    "# Test the functions\n",
    "test_word = \"ሰላም\"\n",
    "print(f\"Is '{test_word}' in dictionary? {check_word(test_word, tigrigna_dictionary)}\")\n",
    "\n",
    "test_misspelled = \"ሰላምም\"\n",
    "suggestions = get_suggestions(test_misspelled, tigrigna_dictionary)\n",
    "print(f\"Suggestions for '{test_misspelled}': {suggestions}\")"
   ]
  },
  {
   "cell_type": "markdown",
   "metadata": {},
   "source": [
    "## 4. Advanced Suggestion Algorithms"
   ]
  },
  {
   "cell_type": "code",
   "execution_count": 4,
   "metadata": {},
   "outputs": [
    {
     "name": "stdout",
     "output_type": "stream",
     "text": [
      "Building n-gram index...\n",
      "Built n-gram index with 564 n-grams\n",
      "Enhanced suggestions for 'ሰላምም': ['ሰላም', 'ሰላማት', 'ምምሕዳር']\n"
     ]
    }
   ],
   "source": [
    "def character_ngrams(word, n=2):\n",
    "    \"\"\"Generate character n-grams for a word\"\"\"\n",
    "    return [word[i:i+n] for i in range(len(word)-n+1)]\n",
    "\n",
    "def build_ngram_index(dictionary, n=2):\n",
    "    \"\"\"Build an index of n-grams to words for quick lookup\"\"\"\n",
    "    ngram_index = {}\n",
    "    for word in dictionary:\n",
    "        for ngram in character_ngrams(word, n):\n",
    "            if ngram not in ngram_index:\n",
    "                ngram_index[ngram] = set()\n",
    "            ngram_index[ngram].add(word)\n",
    "    return ngram_index\n",
    "\n",
    "def get_enhanced_suggestions(word, dictionary, ngram_index, max_suggestions=5):\n",
    "    \"\"\"Get suggestions using n-gram similarity\"\"\"\n",
    "    if not word or check_word(word, dictionary):\n",
    "        return []\n",
    "    \n",
    "    # Find candidate words based on shared n-grams\n",
    "    candidates = Counter()\n",
    "    for ngram in character_ngrams(word):\n",
    "        if ngram in ngram_index:\n",
    "            for candidate in ngram_index[ngram]:\n",
    "                candidates[candidate] += 1\n",
    "    \n",
    "    # No candidates found, fall back to edit distance\n",
    "    if not candidates:\n",
    "        return get_suggestions(word, dictionary, max_suggestions=max_suggestions)\n",
    "    \n",
    "    # Calculate edit distance for top candidates\n",
    "    top_candidates = heapq.nlargest(max_suggestions * 2, candidates.items(), key=lambda x: x[1])\n",
    "    results = [(candidate, edit_distance(word, candidate)) for candidate, _ in top_candidates]\n",
    "    \n",
    "    # Sort by edit distance\n",
    "    results.sort(key=lambda x: x[1])\n",
    "    return [result[0] for result in results[:max_suggestions]]\n",
    "\n",
    "# Build the n-gram index\n",
    "print(\"Building n-gram index...\")\n",
    "ngram_index = build_ngram_index(tigrigna_dictionary)\n",
    "print(f\"Built n-gram index with {len(ngram_index)} n-grams\")\n",
    "\n",
    "# Test enhanced suggestions\n",
    "test_misspelled = \"ሰላምም\"\n",
    "suggestions = get_enhanced_suggestions(test_misspelled, tigrigna_dictionary, ngram_index)\n",
    "print(f\"Enhanced suggestions for '{test_misspelled}': {suggestions}\")"
   ]
  },
  {
   "cell_type": "markdown",
   "metadata": {},
   "source": [
    "## 5. Real-time Spell Checker UI"
   ]
  },
  {
   "cell_type": "code",
   "execution_count": 5,
   "metadata": {},
   "outputs": [
    {
     "data": {
      "application/vnd.jupyter.widget-view+json": {
       "model_id": "38f58ca97a5048cba3b468e9a79e01be",
       "version_major": 2,
       "version_minor": 0
      },
      "text/plain": [
       "HTML(value=\"<h2 style='color:#3f51b5;text-align:center;'>ትግርኛ - Enhanced Tigrigna Spell Checker</h2>\")"
      ]
     },
     "metadata": {},
     "output_type": "display_data"
    },
    {
     "data": {
      "application/vnd.jupyter.widget-view+json": {
       "model_id": "89a9c8a4bfc748aeb8cc6fd5a8e3e3fb",
       "version_major": 2,
       "version_minor": 0
      },
      "text/plain": [
       "HTML(value=\"<p style='text-align:center;'>Type or paste Tigrigna text below. Spelling suggestions appear insta…"
      ]
     },
     "metadata": {},
     "output_type": "display_data"
    },
    {
     "data": {
      "application/vnd.jupyter.widget-view+json": {
       "model_id": "2446a1281ebf4e2c85d213bb9aa20334",
       "version_major": 2,
       "version_minor": 0
      },
      "text/plain": [
       "Textarea(value='', layout=Layout(height='150px', width='100%'), placeholder='ኣብዚ ትግርኛ ጽሑፍካ ጽሓፍ...')"
      ]
     },
     "metadata": {},
     "output_type": "display_data"
    },
    {
     "data": {
      "application/vnd.jupyter.widget-view+json": {
       "model_id": "f7b420ed06f743e3b8cebe8d98f8c892",
       "version_major": 2,
       "version_minor": 0
      },
      "text/plain": [
       "Output()"
      ]
     },
     "metadata": {},
     "output_type": "display_data"
    }
   ],
   "source": [
    "def highlight_misspelled(text, dictionary, ngram_index):\n",
    "    \"\"\"Highlight misspelled words with suggestions\"\"\"\n",
    "    if not text.strip():\n",
    "        return \"\"\n",
    "    \n",
    "    words = tokenize_text(text)\n",
    "    result = []\n",
    "    \n",
    "    for i, word in enumerate(words):\n",
    "        if not word:\n",
    "            continue\n",
    "        \n",
    "        if not check_word(word, dictionary):\n",
    "            suggestions = get_enhanced_suggestions(word, dictionary, ngram_index)\n",
    "            suggestions_text = \", \".join(suggestions) if suggestions else \"No suggestions\"\n",
    "            result.append(f'<span style=\"color: red; text-decoration: underline;\" title=\"{suggestions_text}\">{word}</span>')\n",
    "        else:\n",
    "            result.append(word)\n",
    "        \n",
    "        # Add spaces between words\n",
    "        if i < len(words) - 1:\n",
    "            result.append(\" \")\n",
    "    \n",
    "    return \"\".join(result)\n",
    "\n",
    "def on_text_change(change):\n",
    "    \"\"\"Handle text changes for real-time spell checking\"\"\"\n",
    "    text = change['new']\n",
    "    with output_area:\n",
    "        clear_output()\n",
    "        if text.strip():\n",
    "            highlighted = highlight_misspelled(text, tigrigna_dictionary, ngram_index)\n",
    "            display(HTML(f\"<div style='font-size: 16px; line-height: 1.5;'>{highlighted}</div>\"))\n",
    "            \n",
    "            # Show statistics\n",
    "            words = tokenize_text(text)\n",
    "            misspelled = [word for word in words if word and not check_word(word, tigrigna_dictionary)]\n",
    "            stats_html = f\"<div style='margin-top: 15px; padding: 10px; background: #f5f5f5; border-radius: 5px;'>\"\n",
    "            stats_html += f\"<b>Total words:</b> {len(words)} | \"\n",
    "            stats_html += f\"<b>Misspelled:</b> {len(misspelled)} | \"\n",
    "            stats_html += f\"<b>Correct:</b> {len(words) - len(misspelled)}\"\n",
    "            stats_html += \"</div>\"\n",
    "            display(HTML(stats_html))\n",
    "        else:\n",
    "            display(HTML(\"<p>Spell check results will appear here as you type...</p>\"))\n",
    "\n",
    "# Create the UI components\n",
    "title = widgets.HTML(\"<h2 style='color:#3f51b5;text-align:center;'>ትግርኛ - Enhanced Tigrigna Spell Checker</h2>\")\n",
    "instructions = widgets.HTML(\"<p style='text-align:center;'>Type or paste Tigrigna text below. Spelling suggestions appear instantly!</p>\")\n",
    "\n",
    "text_input = widgets.Textarea(\n",
    "    placeholder='ኣብዚ ትግርኛ ጽሑፍካ ጽሓፍ...',\n",
    "    layout=widgets.Layout(width='100%', height='150px')\n",
    ")\n",
    "\n",
    "output_area = widgets.Output()\n",
    "\n",
    "# Register the callback\n",
    "text_input.observe(on_text_change, names='value')\n",
    "\n",
    "# Display the UI\n",
    "display(title)\n",
    "display(instructions)\n",
    "display(text_input)\n",
    "display(output_area)\n",
    "\n",
    "# Initialize the output area\n",
    "with output_area:\n",
    "    display(HTML(\"<p>Spell check results will appear here as you type...</p>\"))"
   ]
  },
  {
   "cell_type": "markdown",
   "metadata": {},
   "source": [
    "## 6. Word Addition Feature"
   ]
  },
  {
   "cell_type": "code",
   "execution_count": 6,
   "metadata": {},
   "outputs": [
    {
     "data": {
      "application/vnd.jupyter.widget-view+json": {
       "model_id": "2c85df3890e245fa89ca5a130a895e35",
       "version_major": 2,
       "version_minor": 0
      },
      "text/plain": [
       "HTML(value=\"<h3 style='margin-top:30px;'>Add Words to Dictionary</h3>\")"
      ]
     },
     "metadata": {},
     "output_type": "display_data"
    },
    {
     "data": {
      "application/vnd.jupyter.widget-view+json": {
       "model_id": "84d256a08a8b4404876e4cc0c97b7cd2",
       "version_major": 2,
       "version_minor": 0
      },
      "text/plain": [
       "HBox(children=(Text(value='', placeholder='Enter a Tigrigna word to add'), Button(button_style='primary', desc…"
      ]
     },
     "metadata": {},
     "output_type": "display_data"
    },
    {
     "data": {
      "application/vnd.jupyter.widget-view+json": {
       "model_id": "b37d41aecf774b05b8465b3cd84cdf7b",
       "version_major": 2,
       "version_minor": 0
      },
      "text/plain": [
       "Output()"
      ]
     },
     "metadata": {},
     "output_type": "display_data"
    }
   ],
   "source": [
    "def add_word_to_dictionary(word):\n",
    "    \"\"\"Add a word to the Tigrigna dictionary\"\"\"\n",
    "    global tigrigna_dictionary, ngram_index\n",
    "    \n",
    "    if not word.strip():\n",
    "        return \"Please enter a word to add.\"\n",
    "    \n",
    "    word = word.strip()\n",
    "    if word in tigrigna_dictionary:\n",
    "        return f\"'{word}' is already in the dictionary.\"\n",
    "    \n",
    "    # Add to in-memory dictionary\n",
    "    tigrigna_dictionary.add(word)\n",
    "    \n",
    "    # Update n-gram index\n",
    "    for ngram in character_ngrams(word):\n",
    "        if ngram not in ngram_index:\n",
    "            ngram_index[ngram] = set()\n",
    "        ngram_index[ngram].add(word)\n",
    "    \n",
    "    # Try to save to file\n",
    "    save_path = 'data/tigrigna_words.txt'\n",
    "    try:\n",
    "        with open(save_path, 'a', encoding='utf-8') as f:\n",
    "            f.write(f\"\\n{word}\")\n",
    "        return f\"Added '{word}' to the dictionary and saved to {save_path}.\"\n",
    "    except Exception as e:\n",
    "        return f\"Added '{word}' to the in-memory dictionary, but could not save to file: {str(e)}\"\n",
    "\n",
    "def on_add_button_click(b):\n",
    "    \"\"\"Handle the add word button click\"\"\"\n",
    "    with add_output:\n",
    "        clear_output()\n",
    "        result = add_word_to_dictionary(add_word_input.value)\n",
    "        display(widgets.HTML(f\"<p>{result}</p>\"))\n",
    "        # Clear the input field\n",
    "        add_word_input.value = \"\"\n",
    "\n",
    "# Create UI components for adding words\n",
    "add_title = widgets.HTML(\"<h3 style='margin-top:30px;'>Add Words to Dictionary</h3>\")\n",
    "add_word_input = widgets.Text(placeholder=\"Enter a Tigrigna word to add\")\n",
    "add_button = widgets.Button(\n",
    "    description=\"Add to Dictionary\",\n",
    "    button_style=\"primary\",\n",
    "    icon=\"plus\"\n",
    ")\n",
    "add_output = widgets.Output()\n",
    "\n",
    "# Register the callback\n",
    "add_button.on_click(on_add_button_click)\n",
    "\n",
    "# Display the UI\n",
    "display(add_title)\n",
    "display(widgets.HBox([add_word_input, add_button]))\n",
    "display(add_output)"
   ]
  },
  {
   "cell_type": "markdown",
   "metadata": {},
   "source": [
    "## 7. Tigrigna Keyboard Layout"
   ]
  },
  {
   "cell_type": "code",
   "execution_count": 7,
   "metadata": {},
   "outputs": [
    {
     "data": {
      "application/vnd.jupyter.widget-view+json": {
       "model_id": "7049b324729845c7affeb840b1a9bd73",
       "version_major": 2,
       "version_minor": 0
      },
      "text/plain": [
       "HTML(value=\"<h3 style='margin-top:30px;'>Tigrigna Keyboard</h3>\")"
      ]
     },
     "metadata": {},
     "output_type": "display_data"
    },
    {
     "data": {
      "application/vnd.jupyter.widget-view+json": {
       "model_id": "bfa77885921a43d296d1d06eab3cb7ea",
       "version_major": 2,
       "version_minor": 0
      },
      "text/plain": [
       "HBox(children=(Button(description='ሀ', layout=Layout(width='40px'), style=ButtonStyle()), Button(description='…"
      ]
     },
     "metadata": {},
     "output_type": "display_data"
    },
    {
     "data": {
      "application/vnd.jupyter.widget-view+json": {
       "model_id": "6dbab0a1ee7043538d821efd948482fe",
       "version_major": 2,
       "version_minor": 0
      },
      "text/plain": [
       "HBox(children=(Button(description='ኈ', layout=Layout(width='40px'), style=ButtonStyle()), Button(description='…"
      ]
     },
     "metadata": {},
     "output_type": "display_data"
    },
    {
     "data": {
      "application/vnd.jupyter.widget-view+json": {
       "model_id": "0c03ec34f2034f429d5d272b34297b0c",
       "version_major": 2,
       "version_minor": 0
      },
      "text/plain": [
       "HBox(children=(Button(description='ጰ', layout=Layout(width='40px'), style=ButtonStyle()), Button(description='…"
      ]
     },
     "metadata": {},
     "output_type": "display_data"
    },
    {
     "data": {
      "application/vnd.jupyter.widget-view+json": {
       "model_id": "635fc135ac6f4677b06dacbc1ca18a2e",
       "version_major": 2,
       "version_minor": 0
      },
      "text/plain": [
       "HTML(value=\"<p style='margin-top:10px;'><i>Click on a key to add it to the text box. For other Tigrigna charac…"
      ]
     },
     "metadata": {},
     "output_type": "display_data"
    }
   ],
   "source": [
    "# Define the Tigrigna keyboard layout in rows\n",
    "keyboard_rows = [\n",
    "    ['ሀ', 'ለ', 'ሐ', 'መ', 'ሠ', 'ረ', 'ሰ', 'ሸ', 'ቀ', 'በ', 'ተ', 'ቸ', 'ኀ', 'ነ'],\n",
    "    ['ኈ', 'አ', 'ከ', 'ኸ', 'ወ', 'ዐ', 'ዘ', 'ዠ', 'የ', 'ደ', 'ጀ', 'ገ', 'ጠ', 'ጨ'],\n",
    "    ['ጰ', 'ጸ', 'ፀ', 'ፈ', 'ፐ', '፡', '።', '፣', '፤', '፥', '፦', '፧', '፨', 'Space']\n",
    "]\n",
    "\n",
    "def create_fidel_variations(base_char):\n",
    "    \"\"\"Create variations of a Tigrigna fidel based on vowel form\"\"\"\n",
    "    # Special case for space\n",
    "    if base_char == 'Space':\n",
    "        return {'ä': ' '}\n",
    "    \n",
    "    # Special cases for punctuation\n",
    "    if base_char in ['፡', '።', '፣', '፤', '፥', '፦', '፧', '፨']:\n",
    "        return {'ä': base_char}\n",
    "    \n",
    "    # Get the Unicode value of the base character\n",
    "    base_value = ord(base_char)\n",
    "    \n",
    "    # For each base character, the variations follow a pattern in Unicode\n",
    "    variations = {\n",
    "        'ä': chr(base_value),      # 1st form (base)\n",
    "        'u': chr(base_value + 1),  # 2nd form\n",
    "        'i': chr(base_value + 2),  # 3rd form\n",
    "        'a': chr(base_value + 3),  # 4th form\n",
    "        'e': chr(base_value + 4),  # 5th form\n",
    "        'ə': chr(base_value + 5),  # 6th form\n",
    "        'o': chr(base_value + 6)   # 7th form\n",
    "    }\n",
    "    \n",
    "    return variations\n",
    "\n",
    "def on_key_click(b):\n",
    "    \"\"\"Handle keyboard key clicks\"\"\"\n",
    "    char = b.description\n",
    "    if char == 'Space':\n",
    "        text_input.value += ' '\n",
    "    else:\n",
    "        text_input.value += char\n",
    "    \n",
    "    # Set focus back to text area\n",
    "    text_input._focus = True\n",
    "\n",
    "def build_keyboard():\n",
    "    \"\"\"Build the Tigrigna keyboard UI\"\"\"\n",
    "    keyboard_title = widgets.HTML(\"<h3 style='margin-top:30px;'>Tigrigna Keyboard</h3>\")\n",
    "    display(keyboard_title)\n",
    "    \n",
    "    # Create buttons for base form (first form) characters\n",
    "    for row in keyboard_rows:\n",
    "        buttons = []\n",
    "        for char in row:\n",
    "            if char == 'Space':\n",
    "                btn = widgets.Button(description=\"Space\", layout=widgets.Layout(width='80px'))\n",
    "            else:\n",
    "                btn = widgets.Button(description=char, layout=widgets.Layout(width='40px'))\n",
    "            btn.on_click(on_key_click)\n",
    "            buttons.append(btn)\n",
    "        \n",
    "        display(widgets.HBox(buttons))\n",
    "    \n",
    "    # Add a note about keyboard usage\n",
    "    note = widgets.HTML(\"<p style='margin-top:10px;'><i>Click on a key to add it to the text box. For other Tigrigna character forms, type directly in the text box.</i></p>\")\n",
    "    display(note)\n",
    "\n",
    "# Build and display the keyboard\n",
    "build_keyboard()"
   ]
  },
  {
   "cell_type": "markdown",
   "metadata": {},
   "source": [
    "## 8. Dictionary Information and Statistics"
   ]
  },
  {
   "cell_type": "code",
   "execution_count": 8,
   "metadata": {},
   "outputs": [
    {
     "data": {
      "application/vnd.jupyter.widget-view+json": {
       "model_id": "908fd9a334784989aa48de3dc4a56925",
       "version_major": 2,
       "version_minor": 0
      },
      "text/plain": [
       "Button(button_style='info', description='Show Dictionary Statistics', icon='bar-chart', layout=Layout(margin='…"
      ]
     },
     "metadata": {},
     "output_type": "display_data"
    },
    {
     "data": {
      "application/vnd.jupyter.widget-view+json": {
       "model_id": "b7e307d87cd044e589ebae0cf25a4355",
       "version_major": 2,
       "version_minor": 0
      },
      "text/plain": [
       "Output()"
      ]
     },
     "metadata": {},
     "output_type": "display_data"
    }
   ],
   "source": [
    "def analyze_dictionary():\n",
    "    \"\"\"Analyze the loaded dictionary and display statistics\"\"\"\n",
    "    # Word length distribution\n",
    "    length_counts = Counter(len(word) for word in tigrigna_dictionary)\n",
    "    \n",
    "    # Most common character n-grams\n",
    "    all_bigrams = []\n",
    "    for word in tigrigna_dictionary:\n",
    "        all_bigrams.extend(character_ngrams(word, 2))\n",
    "    common_bigrams = Counter(all_bigrams).most_common(10)\n",
    "    \n",
    "    # Display statistics\n",
    "    html = \"<div style='background:#f8f8f8; padding:15px; border-radius:5px;'>\"\n",
    "    html += f\"<h3>Dictionary Statistics</h3>\"\n",
    "    html += f\"<p><b>Total words:</b> {len(tigrigna_dictionary)}</p>\"\n",
    "    \n",
    "    # Word length distribution\n",
    "    html += \"<p><b>Word length distribution:</b></p>\"\n",
    "    html += \"<ul style='columns: 2;'>\"\n",
    "    for length, count in sorted(length_counts.items()):\n",
    "        html += f\"<li>{length} characters: {count} words</li>\"\n",
    "    html += \"</ul>\"\n",
    "    \n",
    "    # Common bigrams\n",
    "    html += \"<p><b>Most common character pairs:</b></p>\"\n",
    "    html += \"<ul style='columns: 2;'>\"\n",
    "    for bigram, count in common_bigrams:\n",
    "        html += f\"<li>'{bigram}': {count} occurrences</li>\"\n",
    "    html += \"</ul>\"\n",
    "    \n",
    "    html += \"</div>\"\n",
    "    display(HTML(html))\n",
    "\n",
    "# Create a button to show dictionary statistics\n",
    "stats_button = widgets.Button(\n",
    "    description=\"Show Dictionary Statistics\",\n",
    "    button_style=\"info\",\n",
    "    icon=\"bar-chart\",\n",
    "    layout=widgets.Layout(margin='30px 0 0 0')\n",
    ")\n",
    "\n",
    "stats_output = widgets.Output()\n",
    "\n",
    "def on_stats_button_click(b):\n",
    "    with stats_output:\n",
    "        clear_output()\n",
    "        analyze_dictionary()\n",
    "\n",
    "stats_button.on_click(on_stats_button_click)\n",
    "\n",
    "display(stats_button)\n",
    "display(stats_output)"
   ]
  }
 ],
 "metadata": {
  "kernelspec": {
   "display_name": "Python 3 (ipykernel)",
   "language": "python",
   "name": "python3"
  },
  "language_info": {
   "codemirror_mode": {
    "name": "ipython",
    "version": 3
   },
   "file_extension": ".py",
   "mimetype": "text/x-python",
   "name": "python",
   "nbconvert_exporter": "python",
   "pygments_lexer": "ipython3",
   "version": "3.11.10"
  }
 },
 "nbformat": 4,
 "nbformat_minor": 4
}
