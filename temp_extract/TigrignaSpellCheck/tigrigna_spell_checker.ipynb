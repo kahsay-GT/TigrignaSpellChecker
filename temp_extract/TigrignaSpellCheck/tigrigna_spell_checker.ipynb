{
 "cells": [
  {
   "cell_type": "markdown",
   "metadata": {},
   "source": [
    "# Tigrigna Spelling Checker\n",
    "\n",
    "This notebook implements a basic spelling checker for the Tigrigna language. It provides functions to check spelling and suggest corrections for misspelled words."
   ]
  },
  {
   "cell_type": "markdown",
   "metadata": {},
   "source": [
    "## 1. Loading the Tigrigna Dictionary"
   ]
  },
  {
   "cell_type": "code",
   "execution_count": 1,
   "metadata": {},
   "outputs": [
    {
     "name": "stdout",
     "output_type": "stream",
     "text": [
      "Loaded 294 Tigrigna words into the dictionary.\n"
     ]
    }
   ],
   "source": [
    "def load_dictionary(file_path='tigrigna_dictionary.txt'):\n",
    "    \"\"\"\n",
    "    Loads the Tigrigna dictionary from the specified file path.\n",
    "    \n",
    "    Args:\n",
    "        file_path (str): Path to the dictionary file\n",
    "        \n",
    "    Returns:\n",
    "        set: A set containing Tigrigna words\n",
    "    \"\"\"\n",
    "    try:\n",
    "        with open(file_path, 'r', encoding='utf-8') as file:\n",
    "            dictionary = {line.strip() for line in file if line.strip()}\n",
    "        return dictionary\n",
    "    except FileNotFoundError:\n",
    "        print(f\"Error: Dictionary file '{file_path}' not found.\")\n",
    "        return set()\n",
    "    except Exception as e:\n",
    "        print(f\"Error loading dictionary: {e}\")\n",
    "        return set()\n",
    "\n",
    "# Load the Tigrigna dictionary\n",
    "tigrigna_dictionary = load_dictionary()\n",
    "print(f\"Loaded {len(tigrigna_dictionary)} Tigrigna words into the dictionary.\")"
   ]
  },
  {
   "cell_type": "markdown",
   "metadata": {},
   "source": [
    "## 2. Text Processing Functions"
   ]
  },
  {
   "cell_type": "code",
   "execution_count": 2,
   "metadata": {},
   "outputs": [],
   "source": [
    "import re\n",
    "\n",
    "def tokenize_text(text):\n",
    "    \"\"\"\n",
    "    Tokenizes Tigrigna text into words.\n",
    "    \n",
    "    Args:\n",
    "        text (str): The input Tigrigna text\n",
    "        \n",
    "    Returns:\n",
    "        list: A list of words\n",
    "    \"\"\"\n",
    "    # Split text by non-Tigrigna characters and spaces\n",
    "    # This regex pattern handles Tigrigna characters and keeps punctuation separate\n",
    "    words = re.findall(r'[\\u1200-\\u137F\\u1380-\\u139F\\u2D80-\\u2DDF]+|[\\s,.!?;:\"()\\[\\]{}]', text)\n",
    "    \n",
    "    # Remove empty strings and whitespace\n",
    "    words = [word.strip() for word in words if word.strip() and not word.isspace()]\n",
    "    \n",
    "    return words\n",
    "\n",
    "def is_punctuation(word):\n",
    "    \"\"\"\n",
    "    Checks if a token is punctuation.\n",
    "    \n",
    "    Args:\n",
    "        word (str): The word to check\n",
    "        \n",
    "    Returns:\n",
    "        bool: True if the token is punctuation, False otherwise\n",
    "    \"\"\"\n",
    "    return all(c in ',.!?;:\"()[]{}' for c in word)"
   ]
  },
  {
   "cell_type": "markdown",
   "metadata": {},
   "source": [
    "## 3. Spell Checking Functions"
   ]
  },
  {
   "cell_type": "code",
   "execution_count": 3,
   "metadata": {},
   "outputs": [],
   "source": [
    "def check_spelling(word, dictionary):\n",
    "    \"\"\"\n",
    "    Checks if a word is spelled correctly.\n",
    "    \n",
    "    Args:\n",
    "        word (str): The word to check\n",
    "        dictionary (set): The Tigrigna dictionary\n",
    "        \n",
    "    Returns:\n",
    "        bool: True if the word is correct, False otherwise\n",
    "    \"\"\"\n",
    "    return word in dictionary"
   ]
  },
  {
   "cell_type": "markdown",
   "metadata": {},
   "source": [
    "## 4. Suggestion Generation using Levenshtein Distance"
   ]
  },
  {
   "cell_type": "code",
   "execution_count": 4,
   "metadata": {},
   "outputs": [],
   "source": [
    "def levenshtein_distance(s1, s2):\n",
    "    \"\"\"\n",
    "    Calculate the Levenshtein distance between two strings.\n",
    "    \n",
    "    Args:\n",
    "        s1 (str): First string\n",
    "        s2 (str): Second string\n",
    "        \n",
    "    Returns:\n",
    "        int: The Levenshtein distance\n",
    "    \"\"\"\n",
    "    if len(s1) < len(s2):\n",
    "        return levenshtein_distance(s2, s1)\n",
    "    \n",
    "    if len(s2) == 0:\n",
    "        return len(s1)\n",
    "    \n",
    "    previous_row = range(len(s2) + 1)\n",
    "    for i, c1 in enumerate(s1):\n",
    "        current_row = [i + 1]\n",
    "        for j, c2 in enumerate(s2):\n",
    "            insertions = previous_row[j + 1] + 1\n",
    "            deletions = current_row[j] + 1\n",
    "            substitutions = previous_row[j] + (c1 != c2)\n",
    "            current_row.append(min(insertions, deletions, substitutions))\n",
    "        previous_row = current_row\n",
    "    \n",
    "    return previous_row[-1]\n",
    "\n",
    "def get_suggestions(word, dictionary, max_distance=2, max_suggestions=5):\n",
    "    \"\"\"\n",
    "    Generate suggestions for a misspelled word.\n",
    "    \n",
    "    Args:\n",
    "        word (str): The misspelled word\n",
    "        dictionary (set): The Tigrigna dictionary\n",
    "        max_distance (int): Maximum Levenshtein distance for suggestions\n",
    "        max_suggestions (int): Maximum number of suggestions to return\n",
    "        \n",
    "    Returns:\n",
    "        list: Suggested corrections sorted by distance\n",
    "    \"\"\"\n",
    "    suggestions = []\n",
    "    \n",
    "    for dict_word in dictionary:\n",
    "        distance = levenshtein_distance(word, dict_word)\n",
    "        if distance <= max_distance:\n",
    "            suggestions.append((dict_word, distance))\n",
    "    \n",
    "    # Sort by distance and return only the words\n",
    "    suggestions.sort(key=lambda x: x[1])\n",
    "    return [word for word, _ in suggestions[:max_suggestions]]"
   ]
  },
  {
   "cell_type": "markdown",
   "metadata": {},
   "source": [
    "## 5. Main Spell Checking Function"
   ]
  },
  {
   "cell_type": "code",
   "execution_count": 5,
   "metadata": {},
   "outputs": [],
   "source": [
    "def spell_check_text(text, dictionary):\n",
    "    \"\"\"\n",
    "    Check spelling of all words in a text and provide suggestions for misspelled words.\n",
    "    \n",
    "    Args:\n",
    "        text (str): The input Tigrigna text\n",
    "        dictionary (set): The Tigrigna dictionary\n",
    "        \n",
    "    Returns:\n",
    "        list: A list of dictionaries containing words, their status, and suggestions\n",
    "    \"\"\"\n",
    "    result = []\n",
    "    words = tokenize_text(text)\n",
    "    \n",
    "    for word in words:\n",
    "        # Skip punctuation and spaces\n",
    "        if is_punctuation(word) or word.isspace():\n",
    "            continue\n",
    "            \n",
    "        is_correct = check_spelling(word, dictionary)\n",
    "        \n",
    "        word_result = {\n",
    "            'word': word,\n",
    "            'is_correct': is_correct,\n",
    "            'suggestions': [] if is_correct else get_suggestions(word, dictionary)\n",
    "        }\n",
    "        \n",
    "        result.append(word_result)\n",
    "    \n",
    "    return result"
   ]
  },
  {
   "cell_type": "markdown",
   "metadata": {},
   "source": [
    "## 6. User Interface"
   ]
  },
  {
   "cell_type": "code",
   "execution_count": 6,
   "metadata": {},
   "outputs": [],
   "source": [
    "from IPython.display import display, HTML\n",
    "import ipywidgets as widgets\n",
    "\n",
    "def format_results(results):\n",
    "    \"\"\"\n",
    "    Format spell check results as HTML for display.\n",
    "    \n",
    "    Args:\n",
    "        results (list): List of dictionaries containing spell check results\n",
    "        \n",
    "    Returns:\n",
    "        str: HTML-formatted results\n",
    "    \"\"\"\n",
    "    html = '<div style=\"font-family: Arial, sans-serif; line-height: 1.6;\">'    \n",
    "    html += '<h3>Spell Check Results:</h3>'\n",
    "\n",
    "    if not results:\n",
    "        html += '<p>No words to check.</p>'\n",
    "    else:\n",
    "        html += '<ul style=\"list-style-type: none; padding-left: 0;\">'        \n",
    "        \n",
    "        for item in results:\n",
    "            word = item['word']\n",
    "            is_correct = item['is_correct']\n",
    "            suggestions = item['suggestions']\n",
    "            \n",
    "            if is_correct:\n",
    "                html += f'<li style=\"margin-bottom: 10px;\"><span style=\"color: green;\">{word}</span> - Correct</li>'\n",
    "            else:\n",
    "                html += f'<li style=\"margin-bottom: 10px;\"><span style=\"color: red; text-decoration: underline;\">{word}</span> - Misspelled'\n",
    "                \n",
    "                if suggestions:\n",
    "                    html += '<ul style=\"margin-top: 5px; margin-bottom: 5px;\">'\n",
    "                    html += '<li>Suggestions:</li>'\n",
    "                    for suggestion in suggestions:\n",
    "                        html += f'<li style=\"margin-left: 20px;\">{suggestion}</li>'\n",
    "                    html += '</ul>'\n",
    "                else:\n",
    "                    html += '<br>No suggestions available.'\n",
    "                    \n",
    "                html += '</li>'\n",
    "                \n",
    "        html += '</ul>'\n",
    "    \n",
    "    html += '</div>'\n",
    "    return html\n",
    "\n",
    "def highlight_text(text, results):\n",
    "    \"\"\"\n",
    "    Highlight misspelled words in the original text.\n",
    "    \n",
    "    Args:\n",
    "        text (str): The original text\n",
    "        results (list): Spell check results\n",
    "        \n",
    "    Returns:\n",
    "        str: HTML with highlighted misspelled words\n",
    "    \"\"\"\n",
    "    # Get misspelled words\n",
    "    misspelled = {item['word']: item['suggestions'] for item in results if not item['is_correct']}\n",
    "    \n",
    "    if not misspelled:\n",
    "        return f'<p>{text}</p>'\n",
    "    \n",
    "    # Tokenize text to preserve word boundaries\n",
    "    tokens = tokenize_text(text)\n",
    "    highlighted = []\n",
    "    \n",
    "    for token in tokens:\n",
    "        if token in misspelled:\n",
    "            # Add tooltip with suggestions\n",
    "            suggestions = \", \".join(misspelled[token])\n",
    "            tooltip = f'Suggestions: {suggestions}' if suggestions else 'No suggestions'\n",
    "            highlighted.append(f'<span style=\"color: red; text-decoration: underline;\" title=\"{tooltip}\">{token}</span>')\n",
    "        else:\n",
    "            highlighted.append(token)\n",
    "    \n",
    "    return '<p>' + ''.join(highlighted) + '</p>'"
   ]
  },
  {
   "cell_type": "code",
   "execution_count": 7,
   "metadata": {},
   "outputs": [
    {
     "data": {
      "application/vnd.jupyter.widget-view+json": {
       "model_id": "b8f988fdb84f4b8c81a9456eb440c27d",
       "version_major": 2,
       "version_minor": 0
      },
      "text/plain": [
       "VBox(children=(HTML(value='<h2>Tigrigna Spelling Checker</h2>'), HTML(value='<p>Enter Tigrigna text below and …"
      ]
     },
     "metadata": {},
     "output_type": "display_data"
    }
   ],
   "source": [
    "def create_spell_check_ui():\n",
    "    \"\"\"\n",
    "    Create an interactive UI for spell checking.\n",
    "    \"\"\"\n",
    "    input_text = widgets.Textarea(\n",
    "        placeholder='Enter Tigrigna text here...',\n",
    "        description='Input:',\n",
    "        layout=widgets.Layout(width='100%', height='150px')\n",
    "    )\n",
    "    \n",
    "    check_button = widgets.Button(\n",
    "        description='Check Spelling',\n",
    "        button_style='primary',\n",
    "        icon='check'\n",
    "    )\n",
    "    \n",
    "    output = widgets.Output()\n",
    "    \n",
    "    def on_button_click(b):\n",
    "        with output:\n",
    "            output.clear_output()\n",
    "            text = input_text.value\n",
    "            \n",
    "            if not text.strip():\n",
    "                display(HTML('<p style=\"color: orange;\">Please enter some text to check.</p>'))\n",
    "                return\n",
    "                \n",
    "            results = spell_check_text(text, tigrigna_dictionary)\n",
    "            \n",
    "            # Display the original text with misspelled words highlighted\n",
    "            display(HTML('<h3>Original Text with Highlights:</h3>'))\n",
    "            display(HTML(highlight_text(text, results)))\n",
    "            \n",
    "            # Display detailed results\n",
    "            display(HTML(format_results(results)))\n",
    "    \n",
    "    check_button.on_click(on_button_click)\n",
    "    \n",
    "    # Create UI layout\n",
    "    ui = widgets.VBox([\n",
    "        widgets.HTML('<h2>Tigrigna Spelling Checker</h2>'),\n",
    "        widgets.HTML('<p>Enter Tigrigna text below and click \"Check Spelling\" to see results.</p>'),\n",
    "        input_text,\n",
    "        check_button,\n",
    "        output\n",
    "    ])\n",
    "    \n",
    "    return ui\n",
    "\n",
    "# Create and display the UI\n",
    "spell_check_ui = create_spell_check_ui()\n",
    "display(spell_check_ui)"
   ]
  },
  {
   "cell_type": "markdown",
   "metadata": {},
   "source": [
    "## 7. Example Usage"
   ]
  },
  {
   "cell_type": "code",
   "execution_count": 8,
   "metadata": {},
   "outputs": [
    {
     "name": "stdout",
     "output_type": "stream",
     "text": [
      "Sample text: ሰላም ኣለኹም። ኣነ ኣብ ቤትትምህሪት ኣለኹ። ኣቦይ ሎሚ ናብ ከተማ ከይዱ። ሓብተይ ኣብ ገዛ ኣላ።\n",
      "\n",
      "Text with error: ሰላም ኣለኹም። ኣነ ኣብ ቤትትምህሪት ኣለኹ። ኣቦይ ሎሙ ናብ ከተማ ከይዱ። ሓብተይ ኣብ ገዛ ኣላ።\n"
     ]
    },
    {
     "data": {
      "text/html": [
       "<div style=\"font-family: Arial, sans-serif; line-height: 1.6;\"><h3>Spell Check Results:</h3><ul style=\"list-style-type: none; padding-left: 0;\"><li style=\"margin-bottom: 10px;\"><span style=\"color: green;\">ሰላም</span> - Correct</li><li style=\"margin-bottom: 10px;\"><span style=\"color: red; text-decoration: underline;\">ኣለኹም።</span> - Misspelled<ul style=\"margin-top: 5px; margin-bottom: 5px;\"><li>Suggestions:</li><li style=\"margin-left: 20px;\">ኣለኹ</li></ul></li><li style=\"margin-bottom: 10px;\"><span style=\"color: green;\">ኣነ</span> - Correct</li><li style=\"margin-bottom: 10px;\"><span style=\"color: green;\">ኣብ</span> - Correct</li><li style=\"margin-bottom: 10px;\"><span style=\"color: red; text-decoration: underline;\">ቤትትምህሪት</span> - Misspelled<ul style=\"margin-top: 5px; margin-bottom: 5px;\"><li>Suggestions:</li><li style=\"margin-left: 20px;\">ቤትትምህርቲ</li></ul></li><li style=\"margin-bottom: 10px;\"><span style=\"color: red; text-decoration: underline;\">ኣለኹ።</span> - Misspelled<ul style=\"margin-top: 5px; margin-bottom: 5px;\"><li>Suggestions:</li><li style=\"margin-left: 20px;\">ኣለኹ</li><li style=\"margin-left: 20px;\">ኣለኩ</li><li style=\"margin-left: 20px;\">ኣለኻ</li><li style=\"margin-left: 20px;\">ኣለኺ</li><li style=\"margin-left: 20px;\">ኣለዉ</li></ul></li><li style=\"margin-bottom: 10px;\"><span style=\"color: green;\">ኣቦይ</span> - Correct</li><li style=\"margin-bottom: 10px;\"><span style=\"color: red; text-decoration: underline;\">ሎሙ</span> - Misspelled<ul style=\"margin-top: 5px; margin-bottom: 5px;\"><li>Suggestions:</li><li style=\"margin-left: 20px;\">ሎሚ</li><li style=\"margin-left: 20px;\">ናብ</li><li style=\"margin-left: 20px;\">ኣብ</li><li style=\"margin-left: 20px;\">ንሱ</li><li style=\"margin-left: 20px;\">ኢሉ</li></ul></li><li style=\"margin-bottom: 10px;\"><span style=\"color: green;\">ናብ</span> - Correct</li><li style=\"margin-bottom: 10px;\"><span style=\"color: green;\">ከተማ</span> - Correct</li><li style=\"margin-bottom: 10px;\"><span style=\"color: red; text-decoration: underline;\">ከይዱ።</span> - Misspelled<br>No suggestions available.</li><li style=\"margin-bottom: 10px;\"><span style=\"color: green;\">ሓብተይ</span> - Correct</li><li style=\"margin-bottom: 10px;\"><span style=\"color: green;\">ኣብ</span> - Correct</li><li style=\"margin-bottom: 10px;\"><span style=\"color: red; text-decoration: underline;\">ገዛ</span> - Misspelled<ul style=\"margin-top: 5px; margin-bottom: 5px;\"><li>Suggestions:</li><li style=\"margin-left: 20px;\">ገጽ</li><li style=\"margin-left: 20px;\">ናብ</li><li style=\"margin-left: 20px;\">ኣብ</li><li style=\"margin-left: 20px;\">ንሱ</li><li style=\"margin-left: 20px;\">ኢሉ</li></ul></li><li style=\"margin-bottom: 10px;\"><span style=\"color: red; text-decoration: underline;\">ኣላ።</span> - Misspelled<ul style=\"margin-top: 5px; margin-bottom: 5px;\"><li>Suggestions:</li><li style=\"margin-left: 20px;\">ኣላ</li><li style=\"margin-left: 20px;\">ኣብ</li><li style=\"margin-left: 20px;\">ኣለኩ</li><li style=\"margin-left: 20px;\">ኣለኹ</li><li style=\"margin-left: 20px;\">ዕላማ</li></ul></li></ul></div>"
      ],
      "text/plain": [
       "<IPython.core.display.HTML object>"
      ]
     },
     "metadata": {},
     "output_type": "display_data"
    }
   ],
   "source": [
    "# Example usage with sample text\n",
    "sample_text = \"ሰላም ኣለኹም። ኣነ ኣብ ቤትትምህሪት ኣለኹ። ኣቦይ ሎሚ ናብ ከተማ ከይዱ። ሓብተይ ኣብ ገዛ ኣላ።\"\n",
    "print(\"Sample text:\", sample_text)\n",
    "\n",
    "# Introduce a spelling error for demonstration\n",
    "text_with_error = \"ሰላም ኣለኹም። ኣነ ኣብ ቤትትምህሪት ኣለኹ። ኣቦይ ሎሙ ናብ ከተማ ከይዱ። ሓብተይ ኣብ ገዛ ኣላ።\"  # ሎሙ instead of ሎሚ\n",
    "print(\"\\nText with error:\", text_with_error)\n",
    "\n",
    "# Check spelling of the text with error\n",
    "results = spell_check_text(text_with_error, tigrigna_dictionary)\n",
    "\n",
    "# Format and display the results\n",
    "display(HTML(format_results(results)))"
   ]
  },
  {
   "cell_type": "markdown",
   "metadata": {},
   "source": [
    "## 8. Adding Words to the Dictionary"
   ]
  },
  {
   "cell_type": "code",
   "execution_count": 9,
   "metadata": {},
   "outputs": [
    {
     "data": {
      "application/vnd.jupyter.widget-view+json": {
       "model_id": "48f569d325a2418680ab8da403c1653b",
       "version_major": 2,
       "version_minor": 0
      },
      "text/plain": [
       "VBox(children=(HTML(value='<h3>Add Words to Dictionary</h3>'), HBox(children=(Text(value='', description='New …"
      ]
     },
     "metadata": {},
     "output_type": "display_data"
    }
   ],
   "source": [
    "def add_word_to_dictionary(word, dictionary, file_path='tigrigna_dictionary.txt'):\n",
    "    \"\"\"\n",
    "    Add a new word to the Tigrigna dictionary.\n",
    "    \n",
    "    Args:\n",
    "        word (str): Word to add\n",
    "        dictionary (set): The Tigrigna dictionary set\n",
    "        file_path (str): Path to the dictionary file\n",
    "        \n",
    "    Returns:\n",
    "        bool: True if successful, False otherwise\n",
    "    \"\"\"\n",
    "    if not word.strip():\n",
    "        return False\n",
    "    \n",
    "    try:\n",
    "        # Add to the in-memory dictionary\n",
    "        dictionary.add(word)\n",
    "        \n",
    "        # Add to the file\n",
    "        with open(file_path, 'a', encoding='utf-8') as file:\n",
    "            file.write(f\"\\n{word}\")\n",
    "            \n",
    "        return True\n",
    "    except Exception as e:\n",
    "        print(f\"Error adding word to dictionary: {e}\")\n",
    "        return False\n",
    "\n",
    "# Create a UI for adding words to the dictionary\n",
    "def create_dictionary_ui():\n",
    "    \"\"\"\n",
    "    Create a UI for adding words to the dictionary.\n",
    "    \"\"\"\n",
    "    word_input = widgets.Text(\n",
    "        placeholder='Enter a Tigrigna word',\n",
    "        description='New Word:',\n",
    "        layout=widgets.Layout(width='300px')\n",
    "    )\n",
    "    \n",
    "    add_button = widgets.Button(\n",
    "        description='Add to Dictionary',\n",
    "        button_style='success',\n",
    "        icon='plus'\n",
    "    )\n",
    "    \n",
    "    output = widgets.Output()\n",
    "    \n",
    "    def on_add_button_click(b):\n",
    "        with output:\n",
    "            output.clear_output()\n",
    "            word = word_input.value.strip()\n",
    "            \n",
    "            if not word:\n",
    "                display(HTML('<p style=\"color: orange;\">Please enter a word to add.</p>'))\n",
    "                return\n",
    "                \n",
    "            if word in tigrigna_dictionary:\n",
    "                display(HTML(f'<p style=\"color: blue;\">\"{word}\" is already in the dictionary.</p>'))\n",
    "                return\n",
    "                \n",
    "            success = add_word_to_dictionary(word, tigrigna_dictionary)\n",
    "            \n",
    "            if success:\n",
    "                display(HTML(f'<p style=\"color: green;\">\"{word}\" has been added to the dictionary.</p>'))\n",
    "                word_input.value = ''  # Clear the input\n",
    "            else:\n",
    "                display(HTML(f'<p style=\"color: red;\">Failed to add \"{word}\" to the dictionary.</p>'))\n",
    "    \n",
    "    add_button.on_click(on_add_button_click)\n",
    "    \n",
    "    # Create UI layout\n",
    "    ui = widgets.VBox([\n",
    "        widgets.HTML('<h3>Add Words to Dictionary</h3>'),\n",
    "        widgets.HBox([word_input, add_button]),\n",
    "        output\n",
    "    ])\n",
    "    \n",
    "    return ui\n",
    "\n",
    "# Create and display the UI\n",
    "dictionary_ui = create_dictionary_ui()\n",
    "display(dictionary_ui)"
   ]
  },
  {
   "cell_type": "markdown",
   "metadata": {},
   "source": [
    "## 9. Conclusion\n",
    "\n",
    "This notebook provides a basic spelling checker for the Tigrigna language with the following features:\n",
    "\n",
    "1. Dictionary-based word verification\n",
    "2. Misspelled word identification\n",
    "3. Spelling correction suggestions using Levenshtein distance\n",
    "4. Interactive user interface for spell checking\n",
    "5. Capability to add new words to the dictionary\n",
    "\n",
    "The dictionary provided is a starting point and can be expanded for better coverage of the Tigrigna language. The spell checker can be improved by adding more sophisticated algorithms for suggestion generation and by expanding the dictionary."
   ]
  },
  {
   "cell_type": "code",
   "execution_count": null,
   "metadata": {},
   "outputs": [],
   "source": []
  }
 ],
 "metadata": {
  "kernelspec": {
   "display_name": "Python 3 (ipykernel)",
   "language": "python",
   "name": "python3"
  },
  "language_info": {
   "codemirror_mode": {
    "name": "ipython",
    "version": 3
   },
   "file_extension": ".py",
   "mimetype": "text/x-python",
   "name": "python",
   "nbconvert_exporter": "python",
   "pygments_lexer": "ipython3",
   "version": "3.11.10"
  }
 },
 "nbformat": 4,
 "nbformat_minor": 4
}
