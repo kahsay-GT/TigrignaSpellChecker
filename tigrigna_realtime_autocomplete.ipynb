{
 "cells": [
  {
   "cell_type": "markdown",
   "metadata": {},
   "source": [
    "# ትግርኛ - Real-time Tigrigna Autocomplete Spell Checker\n",
    "\n",
    "This notebook provides real-time autocomplete suggestions for Tigrigna text as you type."
   ]
  },
  {
   "cell_type": "code",
   "execution_count": 1,
   "metadata": {},
   "outputs": [
    {
     "name": "stdout",
     "output_type": "stream",
     "text": [
      "Tigrigna Real-time Autocomplete Spell Checker initialized.\n"
     ]
    }
   ],
   "source": [
    "import ipywidgets as widgets\n",
    "from IPython.display import display, HTML, clear_output\n",
    "import re\n",
    "import os\n",
    "from collections import defaultdict\n",
    "import threading\n",
    "import time\n",
    "\n",
    "print(\"Tigrigna Real-time Autocomplete Spell Checker initialized.\")"
   ]
  },
  {
   "cell_type": "code",
   "execution_count": 2,
   "metadata": {},
   "outputs": [
    {
     "name": "stdout",
     "output_type": "stream",
     "text": [
      "Loaded 294 words from data/tigrigna_words.txt\n",
      "Total dictionary size: 294 words\n"
     ]
    }
   ],
   "source": [
    "def load_tigrigna_dictionary():\n",
    "    \"\"\"Load Tigrigna words from multiple possible locations\"\"\"\n",
    "    words = set()\n",
    "    \n",
    "    # Try different file paths\n",
    "    paths_to_try = [\n",
    "        'data/tigrigna_words.txt',\n",
    "        'tigrigna_dictionary.txt',\n",
    "        'data/tigrigna_dictionary.txt'\n",
    "    ]\n",
    "    \n",
    "    for path in paths_to_try:\n",
    "        try:\n",
    "            with open(path, 'r', encoding='utf-8') as f:\n",
    "                loaded_words = {line.strip() for line in f if line.strip()}\n",
    "                words.update(loaded_words)\n",
    "                print(f\"Loaded {len(loaded_words)} words from {path}\")\n",
    "                break\n",
    "        except FileNotFoundError:\n",
    "            continue\n",
    "    \n",
    "    # If no file found, use sample words\n",
    "    if not words:\n",
    "        words = {\n",
    "            'ሰላም', 'ሰላሳ', 'ሰላዮ', 'ሰላሞት', 'ሰላሲ', 'ሰላሳይ', 'ሰላዳ', 'ሰላም', 'ሰላምታ', 'ሰላማዊ',\n",
    "            'ከመይ', 'ከመይካ', 'ከምዚ', 'ከምዚ', 'ከምዚይ', \n",
    "            'ሓጺር', 'ሓጺርካ', 'ሓጺራ', 'ሓጺሮም', 'ሓጺረ',\n",
    "            'ነዊሕ', 'ነዊሑ', 'ነዊሖም', 'ነዊሓት',\n",
    "            'ዓቢ', 'ዓቢያ', 'ዓቢያት', 'ዓባይ', 'ዓባያት',\n",
    "            'ንእሽቶ', 'ንእሽተይ', 'ንእሽቱ', 'ንእሽተይቲ',\n",
    "            'ጽቡቕ', 'ጽቡቓት', 'ጽቡቅ', 'ጽቡቅነት',\n",
    "            'ሕማም', 'ሕማማት', 'ሕሙም', 'ሕሙማት',\n",
    "            'ሰብ', 'ሰባት', 'ሰብነት', 'ሰብዓይ',\n",
    "            'ቤት', 'ቤታት', 'ቤተሰብ', 'ቤተክርስትያን',\n",
    "            'መኪና', 'መኪናታት', 'መኪኖች', 'መኪኖታት',\n",
    "            'ማይ', 'ማያት', 'ማይቲ', 'ማይኮን',\n",
    "            'እዋን', 'እዋናት', 'እዋናዊ', 'እዋንን',\n",
    "            'ግዜ', 'ግዜታት', 'ግዜያዊ', 'ግዜ',\n",
    "            'ዓመት', 'ዓመታት', 'ዓመታዊ', 'ዓመተ',\n",
    "            'ወርሒ', 'ወርሓት', 'ወርሓዊ', 'ወርሓይ',\n",
    "            'መዓልቲ', 'መዓልታት', 'መዓልታዊ', 'መዓልትን',\n",
    "            'ዕለት', 'ዕለታት', 'ዕለታዊ', 'ዕለተ',\n",
    "            'ኢትዮጵያ', 'ኢትዮጵያዊ', 'ኢትዮጵያውያን', 'ኢትዮጵያዊት',\n",
    "            'ኤርትራ', 'ኤርትራዊ', 'ኤርትራውያን', 'ኤርትራዊት',\n",
    "            'ትግራይ', 'ትግራዋይ', 'ትግራውያን', 'ትግራዊት',\n",
    "            'ትግርኛ', 'ትግርኛዊ', 'ትግርኛውያን', 'ትግርኛዊት'\n",
    "        }\n",
    "        print(f\"Using sample dictionary with {len(words)} words\")\n",
    "    \n",
    "    print(f\"Total dictionary size: {len(words)} words\")\n",
    "    return words\n",
    "\n",
    "# Load the dictionary\n",
    "tigrigna_words = load_tigrigna_dictionary()"
   ]
  },
  {
   "cell_type": "code",
   "execution_count": 3,
   "metadata": {},
   "outputs": [
    {
     "name": "stdout",
     "output_type": "stream",
     "text": [
      "Building prefix tree for fast suggestions...\n",
      "Prefix tree built with 720 prefixes\n",
      "Test suggestions for 'ሰላ': ['ሰላም', 'ሰላማት']\n"
     ]
    }
   ],
   "source": [
    "def build_prefix_tree(words):\n",
    "    \"\"\"Build a prefix tree (trie) for fast prefix matching\"\"\"\n",
    "    prefix_tree = defaultdict(list)\n",
    "    \n",
    "    for word in words:\n",
    "        # For each word, add it to all possible prefixes\n",
    "        for i in range(1, len(word) + 1):\n",
    "            prefix = word[:i]\n",
    "            prefix_tree[prefix].append(word)\n",
    "    \n",
    "    # Sort words by length and alphabetically for better suggestions\n",
    "    for prefix in prefix_tree:\n",
    "        prefix_tree[prefix] = sorted(set(prefix_tree[prefix]), key=lambda x: (len(x), x))\n",
    "    \n",
    "    return prefix_tree\n",
    "\n",
    "def get_word_suggestions(prefix, prefix_tree, max_suggestions=10):\n",
    "    \"\"\"Get word suggestions for a given prefix\"\"\"\n",
    "    if not prefix or len(prefix.strip()) == 0:\n",
    "        return []\n",
    "    \n",
    "    prefix = prefix.strip()\n",
    "    suggestions = prefix_tree.get(prefix, [])\n",
    "    \n",
    "    # If we have exact matches, return them\n",
    "    if suggestions:\n",
    "        return suggestions[:max_suggestions]\n",
    "    \n",
    "    # If no exact prefix match, try to find similar words\n",
    "    similar_suggestions = []\n",
    "    for word in tigrigna_words:\n",
    "        if word.startswith(prefix):\n",
    "            similar_suggestions.append(word)\n",
    "    \n",
    "    return sorted(similar_suggestions, key=lambda x: (len(x), x))[:max_suggestions]\n",
    "\n",
    "# Build the prefix tree\n",
    "print(\"Building prefix tree for fast suggestions...\")\n",
    "prefix_tree = build_prefix_tree(tigrigna_words)\n",
    "print(f\"Prefix tree built with {len(prefix_tree)} prefixes\")\n",
    "\n",
    "# Test the suggestion system\n",
    "test_prefix = \"ሰላ\"\n",
    "test_suggestions = get_word_suggestions(test_prefix, prefix_tree)\n",
    "print(f\"Test suggestions for '{test_prefix}': {test_suggestions}\")"
   ]
  },
  {
   "cell_type": "code",
   "execution_count": 4,
   "metadata": {},
   "outputs": [
    {
     "name": "stdout",
     "output_type": "stream",
     "text": [
      "Current word in 'ሰላም ከመይ ሓዲርኩም ሰላ': 'ሰላ' (position 14-16)\n"
     ]
    }
   ],
   "source": [
    "def tokenize_tigrigna_text(text):\n",
    "    \"\"\"Split Tigrigna text into words\"\"\"\n",
    "    # Replace Ethiopic punctuation with spaces\n",
    "    cleaned = re.sub(r'[፡።፣፤፥፧፦፨፠፟\\s]+', ' ', text)\n",
    "    words = [word.strip() for word in cleaned.split() if word.strip()]\n",
    "    return words\n",
    "\n",
    "def get_current_word_and_position(text, cursor_pos=None):\n",
    "    \"\"\"Get the current word being typed and its position\"\"\"\n",
    "    if cursor_pos is None:\n",
    "        cursor_pos = len(text)\n",
    "    \n",
    "    # Find word boundaries around cursor position\n",
    "    start = cursor_pos\n",
    "    end = cursor_pos\n",
    "    \n",
    "    # Find start of current word\n",
    "    while start > 0 and text[start - 1] not in ' ፡።፣፤፥፧፦፨፠፟\\n\\t':\n",
    "        start -= 1\n",
    "    \n",
    "    # Find end of current word\n",
    "    while end < len(text) and text[end] not in ' ፡።፣፤፥፧፦፨፠፟\\n\\t':\n",
    "        end += 1\n",
    "    \n",
    "    current_word = text[start:end]\n",
    "    return current_word, start, end\n",
    "\n",
    "# Test the word extraction\n",
    "test_text = \"ሰላም ከመይ ሓዲርኩም ሰላ\"\n",
    "current_word, start, end = get_current_word_and_position(test_text)\n",
    "print(f\"Current word in '{test_text}': '{current_word}' (position {start}-{end})\")"
   ]
  },
  {
   "cell_type": "code",
   "execution_count": 5,
   "metadata": {},
   "outputs": [
    {
     "name": "stdout",
     "output_type": "stream",
     "text": [
      "Real-time suggestion system ready.\n"
     ]
    }
   ],
   "source": [
    "# Global variables for debouncing\n",
    "suggestion_timer = None\n",
    "last_input_time = 0\n",
    "\n",
    "def show_suggestions_delayed():\n",
    "    \"\"\"Show suggestions after a short delay to avoid too frequent updates\"\"\"\n",
    "    global last_input_time\n",
    "    current_time = time.time()\n",
    "    \n",
    "    # Only show suggestions if no new input in the last 300ms\n",
    "    if current_time - last_input_time >= 0.3:\n",
    "        show_suggestions()\n",
    "\n",
    "def show_suggestions():\n",
    "    \"\"\"Display suggestions for the current input\"\"\"\n",
    "    text = text_input.value\n",
    "    if not text.strip():\n",
    "        with suggestions_output:\n",
    "            clear_output()\n",
    "            display(HTML(\"<div style='color: #666; padding: 10px;'>Start typing to see suggestions...</div>\"))\n",
    "        return\n",
    "    \n",
    "    # Get the current word being typed\n",
    "    current_word, start_pos, end_pos = get_current_word_and_position(text)\n",
    "    \n",
    "    if len(current_word) == 0:\n",
    "        with suggestions_output:\n",
    "            clear_output()\n",
    "            display(HTML(\"<div style='color: #666; padding: 10px;'>Continue typing to see suggestions...</div>\"))\n",
    "        return\n",
    "    \n",
    "    # Get suggestions for the current word\n",
    "    suggestions = get_word_suggestions(current_word, prefix_tree, max_suggestions=10)\n",
    "    \n",
    "    with suggestions_output:\n",
    "        clear_output()\n",
    "        \n",
    "        if suggestions:\n",
    "            html = f\"<div style='border: 1px solid #ddd; border-radius: 5px; background: white;'>\"\n",
    "            html += f\"<div style='background: #f5f5f5; padding: 8px; border-bottom: 1px solid #ddd; font-weight: bold;'>Suggestions for '{current_word}':</div>\"\n",
    "            \n",
    "            for i, suggestion in enumerate(suggestions, 1):\n",
    "                # Highlight the matching prefix\n",
    "                if suggestion.startswith(current_word):\n",
    "                    highlighted = f\"<strong>{current_word}</strong>{suggestion[len(current_word):]}\"\n",
    "                else:\n",
    "                    highlighted = suggestion\n",
    "                \n",
    "                html += f\"<div style='padding: 6px 12px; border-bottom: 1px solid #eee; cursor: pointer;' \"\n",
    "                html += f\"onmouseover='this.style.backgroundColor=\\\"#e3f2fd\\\"' \"\n",
    "                html += f\"onmouseout='this.style.backgroundColor=\\\"white\\\"' \"\n",
    "                html += f\"onclick='selectSuggestion(\\\"{suggestion}\\\", {start_pos}, {end_pos})'>\"\n",
    "                html += f\"<span style='color: #1976d2; margin-right: 8px;'>{i}.</span>{highlighted}\"\n",
    "                html += \"</div>\"\n",
    "            \n",
    "            html += \"</div>\"\n",
    "            \n",
    "            # Add JavaScript for suggestion selection\n",
    "            js_code = f\"\"\"\n",
    "            <script>\n",
    "            function selectSuggestion(word, startPos, endPos) {{\n",
    "                // Find the textarea element\n",
    "                var textareas = document.querySelectorAll('textarea');\n",
    "                var textarea = null;\n",
    "                for (var i = 0; i < textareas.length; i++) {{\n",
    "                    if (textareas[i].placeholder && textareas[i].placeholder.includes('ትግርኛ')) {{\n",
    "                        textarea = textareas[i];\n",
    "                        break;\n",
    "                    }}\n",
    "                }}\n",
    "                \n",
    "                if (textarea) {{\n",
    "                    var currentText = textarea.value;\n",
    "                    var newText = currentText.substring(0, startPos) + word + currentText.substring(endPos);\n",
    "                    textarea.value = newText;\n",
    "                    \n",
    "                    // Trigger input event to update the widget value\n",
    "                    var event = new Event('input', {{ bubbles: true }});\n",
    "                    textarea.dispatchEvent(event);\n",
    "                    \n",
    "                    // Set cursor position after the inserted word\n",
    "                    var newCursorPos = startPos + word.length;\n",
    "                    textarea.setSelectionRange(newCursorPos, newCursorPos);\n",
    "                    textarea.focus();\n",
    "                }}\n",
    "            }}\n",
    "            </script>\n",
    "            \"\"\"\n",
    "            \n",
    "            display(HTML(html + js_code))\n",
    "        else:\n",
    "            display(HTML(f\"<div style='color: #999; padding: 10px; font-style: italic;'>No suggestions found for '{current_word}'</div>\"))\n",
    "\n",
    "def on_text_change(change):\n",
    "    \"\"\"Handle text input changes\"\"\"\n",
    "    global suggestion_timer, last_input_time\n",
    "    \n",
    "    last_input_time = time.time()\n",
    "    \n",
    "    # Cancel previous timer\n",
    "    if suggestion_timer:\n",
    "        suggestion_timer.cancel()\n",
    "    \n",
    "    # Set new timer for delayed suggestion update\n",
    "    suggestion_timer = threading.Timer(0.3, show_suggestions_delayed)\n",
    "    suggestion_timer.start()\n",
    "\n",
    "print(\"Real-time suggestion system ready.\")"
   ]
  },
  {
   "cell_type": "code",
   "execution_count": 6,
   "metadata": {},
   "outputs": [
    {
     "data": {
      "text/html": [
       "\n",
       "<div style='text-align: center; margin: 20px 0;'>\n",
       "    <h1 style='color: #1976d2; margin: 0;'>ትግርኛ</h1>\n",
       "    <h2 style='color: #424242; margin: 5px 0;'>Real-time Tigrigna Autocomplete</h2>\n",
       "    <p style='color: #666; margin: 10px 0;'>Type Tigrigna text below and get instant word suggestions</p>\n",
       "</div>\n"
      ],
      "text/plain": [
       "<IPython.core.display.HTML object>"
      ]
     },
     "metadata": {},
     "output_type": "display_data"
    },
    {
     "data": {
      "application/vnd.jupyter.widget-view+json": {
       "model_id": "902f2435cfad4ed3b2273ca137742cf9",
       "version_major": 2,
       "version_minor": 0
      },
      "text/plain": [
       "Textarea(value='', layout=Layout(height='120px', margin='10px 0', width='100%'), placeholder='ኣብዚ ትግርኛ ጽሑፍካ ጽሓ…"
      ]
     },
     "metadata": {},
     "output_type": "display_data"
    },
    {
     "data": {
      "application/vnd.jupyter.widget-view+json": {
       "model_id": "2b6f4c776f804179bd035797646f3a67",
       "version_major": 2,
       "version_minor": 0
      },
      "text/plain": [
       "Output(layout=Layout(margin='10px 0', min_height='200px', width='100%'))"
      ]
     },
     "metadata": {},
     "output_type": "display_data"
    },
    {
     "data": {
      "application/vnd.jupyter.widget-view+json": {
       "model_id": "c02555ca2c9b48958d729b1d3a92a6f4",
       "version_major": 2,
       "version_minor": 0
      },
      "text/plain": [
       "Output(layout=Layout(margin='10px 0', width='100%'))"
      ]
     },
     "metadata": {},
     "output_type": "display_data"
    },
    {
     "name": "stdout",
     "output_type": "stream",
     "text": [
      "Tigrigna Real-time Autocomplete is ready! Start typing to see suggestions.\n"
     ]
    }
   ],
   "source": [
    "# Create the user interface\n",
    "title_html = \"\"\"\n",
    "<div style='text-align: center; margin: 20px 0;'>\n",
    "    <h1 style='color: #1976d2; margin: 0;'>ትግርኛ</h1>\n",
    "    <h2 style='color: #424242; margin: 5px 0;'>Real-time Tigrigna Autocomplete</h2>\n",
    "    <p style='color: #666; margin: 10px 0;'>Type Tigrigna text below and get instant word suggestions</p>\n",
    "</div>\n",
    "\"\"\"\n",
    "\n",
    "# Text input area\n",
    "text_input = widgets.Textarea(\n",
    "    value='',\n",
    "    placeholder='ኣብዚ ትግርኛ ጽሑፍካ ጽሓፍ... (Type your Tigrigna text here...)',\n",
    "    description='',\n",
    "    layout=widgets.Layout(\n",
    "        width='100%',\n",
    "        height='120px',\n",
    "        margin='10px 0'\n",
    "    ),\n",
    "    style={'font_size': '16px'}\n",
    ")\n",
    "\n",
    "# Output area for suggestions\n",
    "suggestions_output = widgets.Output(\n",
    "    layout=widgets.Layout(\n",
    "        width='100%',\n",
    "        min_height='200px',\n",
    "        margin='10px 0'\n",
    "    )\n",
    ")\n",
    "\n",
    "# Stats area\n",
    "stats_output = widgets.Output(\n",
    "    layout=widgets.Layout(\n",
    "        width='100%',\n",
    "        margin='10px 0'\n",
    "    )\n",
    ")\n",
    "\n",
    "# Connect the text change handler\n",
    "text_input.observe(on_text_change, names='value')\n",
    "\n",
    "# Display the interface\n",
    "display(HTML(title_html))\n",
    "display(text_input)\n",
    "display(suggestions_output)\n",
    "display(stats_output)\n",
    "\n",
    "# Initialize with empty suggestions\n",
    "with suggestions_output:\n",
    "    display(HTML(\"<div style='color: #666; padding: 10px;'>Start typing to see suggestions...</div>\"))\n",
    "\n",
    "print(\"Tigrigna Real-time Autocomplete is ready! Start typing to see suggestions.\")"
   ]
  },
  {
   "cell_type": "code",
   "execution_count": 7,
   "metadata": {},
   "outputs": [
    {
     "name": "stdout",
     "output_type": "stream",
     "text": [
      "Enhanced real-time autocomplete with statistics is ready!\n"
     ]
    }
   ],
   "source": [
    "def update_stats():\n",
    "    \"\"\"Update and display text statistics\"\"\"\n",
    "    text = text_input.value\n",
    "    if not text.strip():\n",
    "        with stats_output:\n",
    "            clear_output()\n",
    "        return\n",
    "    \n",
    "    words = tokenize_tigrigna_text(text)\n",
    "    word_count = len(words)\n",
    "    char_count = len(text)\n",
    "    char_count_no_spaces = len(text.replace(' ', ''))\n",
    "    \n",
    "    # Count recognized vs unrecognized words\n",
    "    recognized_words = 0\n",
    "    for word in words:\n",
    "        if word in tigrigna_words:\n",
    "            recognized_words += 1\n",
    "    \n",
    "    unrecognized_words = word_count - recognized_words\n",
    "    \n",
    "    with stats_output:\n",
    "        clear_output()\n",
    "        stats_html = f\"\"\"\n",
    "        <div style='background: #f5f5f5; padding: 12px; border-radius: 5px; margin-top: 10px;'>\n",
    "            <div style='display: flex; justify-content: space-around; text-align: center;'>\n",
    "                <div>\n",
    "                    <div style='font-size: 20px; font-weight: bold; color: #1976d2;'>{word_count}</div>\n",
    "                    <div style='color: #666; font-size: 12px;'>Words</div>\n",
    "                </div>\n",
    "                <div>\n",
    "                    <div style='font-size: 20px; font-weight: bold; color: #388e3c;'>{recognized_words}</div>\n",
    "                    <div style='color: #666; font-size: 12px;'>Recognized</div>\n",
    "                </div>\n",
    "                <div>\n",
    "                    <div style='font-size: 20px; font-weight: bold; color: #d32f2f;'>{unrecognized_words}</div>\n",
    "                    <div style='color: #666; font-size: 12px;'>Unknown</div>\n",
    "                </div>\n",
    "                <div>\n",
    "                    <div style='font-size: 20px; font-weight: bold; color: #7b1fa2;'>{char_count}</div>\n",
    "                    <div style='color: #666; font-size: 12px;'>Characters</div>\n",
    "                </div>\n",
    "            </div>\n",
    "        </div>\n",
    "        \"\"\"\n",
    "        display(HTML(stats_html))\n",
    "\n",
    "# Create a more comprehensive text change handler\n",
    "def on_text_change_complete(change):\n",
    "    \"\"\"Handle text changes with both suggestions and stats\"\"\"\n",
    "    on_text_change(change)  # Handle suggestions\n",
    "    \n",
    "    # Update stats after a short delay\n",
    "    def delayed_stats_update():\n",
    "        time.sleep(0.5)\n",
    "        update_stats()\n",
    "    \n",
    "    stats_timer = threading.Timer(0.5, update_stats)\n",
    "    stats_timer.start()\n",
    "\n",
    "# Replace the text change handler\n",
    "text_input.unobserve_all()\n",
    "text_input.observe(on_text_change_complete, names='value')\n",
    "\n",
    "print(\"Enhanced real-time autocomplete with statistics is ready!\")"
   ]
  }
 ],
 "metadata": {
  "kernelspec": {
   "display_name": "Python 3 (ipykernel)",
   "language": "python",
   "name": "python3"
  },
  "language_info": {
   "codemirror_mode": {
    "name": "ipython",
    "version": 3
   },
   "file_extension": ".py",
   "mimetype": "text/x-python",
   "name": "python",
   "nbconvert_exporter": "python",
   "pygments_lexer": "ipython3",
   "version": "3.11.10"
  }
 },
 "nbformat": 4,
 "nbformat_minor": 4
}
